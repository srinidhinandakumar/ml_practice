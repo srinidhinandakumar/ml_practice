{
 "cells": [
  {
   "cell_type": "code",
   "execution_count": 4,
   "metadata": {},
   "outputs": [
    {
     "name": "stdout",
     "output_type": "stream",
     "text": [
      "['male']\n"
     ]
    }
   ],
   "source": [
    "from sklearn import tree\n",
    "#classify gender based on height, wight and shoe size\n",
    "X = [[181, 80, 44], [177, 70, 43], [160, 60, 38], [154, 54, 37], [166, 65, 40],\n",
    "     [190, 90, 47], [175, 64, 39],\n",
    "     [177, 70, 40], [159, 55, 37], [171, 75, 42], [181, 85, 43]]\n",
    "\n",
    "Y = ['male', 'male', 'female', 'female', 'male', 'male', 'female', 'female',\n",
    "     'female', 'male', 'male']\n",
    "\n",
    "clf = tree.DecisionTreeClassifier()\n",
    "clf = clf.fit(X, Y)\n",
    "\n",
    "prediction = clf.predict([[166,59,44]])\n",
    "\n",
    "print(prediction)"
   ]
  },
  {
   "cell_type": "code",
   "execution_count": null,
   "metadata": {},
   "outputs": [],
   "source": [
    "%matplotlib inline\n",
    "import csv\n",
    "import numpy as np\n",
    "import pandas as pd\n",
    "from sklearn.svm import SVR\n",
    "import matplotlib.pyplot as plt\n",
    "\n",
    "dates = []\n",
    "prices = []\n",
    "\n",
    "def getData(filename):\n",
    "    csvFile = open(filename,'r')\n",
    "    csvFileReader = csv.reader(csvFile)\n",
    "    df = pd.DataFrame.from_csv(filename)\n",
    "    columns = df.columns.values\n",
    "    index = df.index.values\n",
    "    print(columns)\n",
    "    print(index)\n",
    "    df = df[df['open'].notnull()]\n",
    "    #print(df)\n",
    "    for i in index:\n",
    "        print((str(i).split('-')))\n",
    "    \"\"\"\n",
    "    with open(filename, 'r') as csvFile:\n",
    "        csvFileReader = csv.reader(csvFile)\n",
    "        next(csvFileReader)\n",
    "        #print(csvFileReader)\n",
    "        for row in csvFileReader:\n",
    "            #print(row)\n",
    "            dates.append(int(row[0].split('-')[0]))\n",
    "            #print(row[1].strip())\n",
    "            l = row[1].strip()\n",
    "            try:\n",
    "                prices.append(float(l))\n",
    "            except:\n",
    "                print(l)\n",
    "    \"\"\"        \n",
    "    return\n",
    "\n",
    "def predictPrice(dates, prices, x):\n",
    "    #reshape dates to 1D array\n",
    "    dates = np.reshape(dates, len(dates), 1)\n",
    "    svr_linear = SVR(kernel = 'linear', C = 1e3)\n",
    "    svr_polynomial = SVR(kernel = 'poly', C = 1e3, degree = 2)\n",
    "    svr_radioBasisFunction = SVR(kernel = 'rbf', C = 1e3, gamma = 0.1)#takes euclidean distance between two inputs. \n",
    "    #eg: if both  are on top of each other max similarity is 1 and gamma defines how far too far is\n",
    "    \n",
    "    svr_linear.fit(dates, prices)\n",
    "    svr_polynomial.fit(dates, prices)\n",
    "    svr_radioBasisFunction.fit(dates, prices)\n",
    "    \n",
    "    plt.scatter(dates, prices, color = 'blue', label = 'Data')\n",
    "    plt.plot(dates, svr_radioBasisFunction.predict(dates), color = 'red', label = 'RBF model')\n",
    "    plt.plot(dates, svr_polynomial.predict(dates), color = 'green', label = 'Polynomial model')\n",
    "    plt.plot(dtaes, svr_linear.predict(dates), color = 'yellow', label = 'Linear model')\n",
    "    \n",
    "    plt.xlabel('Dates')\n",
    "    plt.ylabel('Prices')\n",
    "    plt.title('SVR')\n",
    "    plt.legend()\n",
    "    plt.show\n",
    "    \n",
    "    return svr_radioBasisFunction.predict(x)[0], svr_polynomial(x)[0], svr_linear.predict(x)[0]\n",
    "\n",
    "getData('all_stocks_5yr.csv')\n",
    "#predictedPrices = predictPrice(dates, prices, 29)\n",
    "#print(predictedPrices)\n",
    "     "
   ]
  },
  {
   "cell_type": "code",
   "execution_count": null,
   "metadata": {
    "collapsed": true
   },
   "outputs": [],
   "source": []
  }
 ],
 "metadata": {
  "kernelspec": {
   "display_name": "Python 3",
   "language": "python",
   "name": "python3"
  },
  "language_info": {
   "codemirror_mode": {
    "name": "ipython",
    "version": 3
   },
   "file_extension": ".py",
   "mimetype": "text/x-python",
   "name": "python",
   "nbconvert_exporter": "python",
   "pygments_lexer": "ipython3",
   "version": "3.6.3"
  }
 },
 "nbformat": 4,
 "nbformat_minor": 2
}
